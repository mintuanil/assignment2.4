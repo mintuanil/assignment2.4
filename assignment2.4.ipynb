{
 "cells": [
  {
   "cell_type": "code",
   "execution_count": null,
   "metadata": {},
   "outputs": [],
   "source": [
    "#Problem Statement 1:"
   ]
  },
  {
   "cell_type": "markdown",
   "metadata": {},
   "source": [
    "\n",
    "Write a Python Program(with class concepts) to find the area of the triangle using the\n",
    "below formula.\n",
    "area = (s*(s-a)*(s-b)*(s-c)) ** 0.5\n",
    "Function to take the length of the sides of triangle from user should be defined in the\n",
    "parent class and function to calculate the area should be defined in subclass."
   ]
  },
  {
   "cell_type": "code",
   "execution_count": 1,
   "metadata": {},
   "outputs": [
    {
     "name": "stdout",
     "output_type": "stream",
     "text": [
      "Enter the sides 1: 12\n",
      "Enter the sides 2: 12\n",
      "Enter the sides 3: 12\n",
      "The area of the triangle is: 62.353829\n"
     ]
    }
   ],
   "source": [
    "class triangle():\n",
    "    def __init__ (self):\n",
    "        self.side[0]=side[0]\n",
    "        self.side[1]=side[1]\n",
    "        self.side[2]=side[2]\n",
    "\n",
    "\n",
    "    def inputsides(self):\n",
    "        self.side=[]\n",
    "        for i in range(3):\n",
    "            self.side.append(int(input(\"Enter the sides %d: \" %(i+1))))\n",
    "        return self.side\n",
    "    \n",
    "class area(triangle):\n",
    "    def __init__(self):\n",
    "        super(area).__init__()\n",
    "\n",
    "        \n",
    "    def calculate(self):\n",
    "        half_peri=(self.side[0]+self.side[1]+self.side[2])/2\n",
    "        area=(half_peri*(half_peri-self.side[0])*(half_peri-self.side[1])*(half_peri-self.side[2]))**0.5\n",
    "        return area\n",
    "            \n",
    "triangleinput=area()\n",
    "triangleinput.inputsides()\n",
    "print(\"The area of the triangle is: %f\" %(triangleinput.calculate()))\n"
   ]
  },
  {
   "cell_type": "code",
   "execution_count": 2,
   "metadata": {},
   "outputs": [],
   "source": [
    "#Problem Statement 2:"
   ]
  },
  {
   "cell_type": "markdown",
   "metadata": {},
   "source": [
    "Write a function filter_long_words() that takes a list of words and an integer n and returns the list of words that are longer than n."
   ]
  },
  {
   "cell_type": "code",
   "execution_count": 3,
   "metadata": {},
   "outputs": [
    {
     "name": "stdout",
     "output_type": "stream",
     "text": [
      "Please input the list of words: orange,apple,grapes,kiwi,pinapple\n",
      "Please input an integer: 5\n",
      "The list of words greater than the integer is ['orange', 'grapes', 'pinapple']\n"
     ]
    }
   ],
   "source": [
    "def filter_long_word(st,num):\n",
    "    listwords = []\n",
    "    for i in range(len(st)):\n",
    "        if len(st[i]) > num:\n",
    "            listwords.append(st[i])\n",
    "           \n",
    "    return listwords \n",
    "words=[]\n",
    "words = list((input(\"Please input the list of words: \")).split(\",\"))\n",
    "integer = int(input(\"Please input an integer: \"))\n",
    "words1 = filter_long_word(words,integer)\n",
    "\n",
    "print(\"The list of words greater than the integer is\",words1)"
   ]
  },
  {
   "cell_type": "code",
   "execution_count": null,
   "metadata": {},
   "outputs": [],
   "source": []
  }
 ],
 "metadata": {
  "kernelspec": {
   "display_name": "Python 3",
   "language": "python",
   "name": "python3"
  },
  "language_info": {
   "codemirror_mode": {
    "name": "ipython",
    "version": 3
   },
   "file_extension": ".py",
   "mimetype": "text/x-python",
   "name": "python",
   "nbconvert_exporter": "python",
   "pygments_lexer": "ipython3",
   "version": "3.6.4"
  }
 },
 "nbformat": 4,
 "nbformat_minor": 2
}
